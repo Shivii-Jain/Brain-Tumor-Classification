{
  "nbformat": 4,
  "nbformat_minor": 0,
  "metadata": {
    "colab": {
      "provenance": [],
      "authorship_tag": "ABX9TyOFrCeMu5/4QDv3H/G1rMh+",
      "include_colab_link": true
    },
    "kernelspec": {
      "name": "python3",
      "display_name": "Python 3"
    },
    "language_info": {
      "name": "python"
    }
  },
  "cells": [
    {
      "cell_type": "markdown",
      "metadata": {
        "id": "view-in-github",
        "colab_type": "text"
      },
      "source": [
        "<a href=\"https://colab.research.google.com/github/Shivii-Jain/Brain-Tumor-Classification/blob/main/AI_agent_basics.ipynb\" target=\"_parent\"><img src=\"https://colab.research.google.com/assets/colab-badge.svg\" alt=\"Open In Colab\"/></a>"
      ]
    },
    {
      "cell_type": "code",
      "execution_count": null,
      "metadata": {
        "id": "BHp1_Zo82a1N"
      },
      "outputs": [],
      "source": [
        "!pip install google-generativeai"
      ]
    },
    {
      "cell_type": "markdown",
      "source": [
        "> Google Python SDK (google.generativeai)"
      ],
      "metadata": {
        "id": "qWYwX8SA6CQJ"
      }
    },
    {
      "cell_type": "code",
      "source": [
        "import google.generativeai as genai\n",
        "genai.configure(api_key=\"Enter your API Key here\")"
      ],
      "metadata": {
        "id": "LYz-8Vn-2ccC"
      },
      "execution_count": null,
      "outputs": []
    },
    {
      "cell_type": "markdown",
      "source": [
        "For printing model names available based on your API key"
      ],
      "metadata": {
        "id": "EBcyv08-UgLR"
      }
    },
    {
      "cell_type": "code",
      "source": [
        "for model in genai.list_models():\n",
        "  print(model.name)\n"
      ],
      "metadata": {
        "id": "XwylePCg6ijN"
      },
      "execution_count": null,
      "outputs": []
    },
    {
      "cell_type": "markdown",
      "source": [
        "Giving prompt to GenAI model gemini to generate response"
      ],
      "metadata": {
        "id": "DKnlNi-_Us0A"
      }
    },
    {
      "cell_type": "code",
      "source": [
        "model = genai.GenerativeModel(\"gemini-1.5-flash-latest\")\n",
        "prompt = \"After years of hard work, your hard work will take you\"\n",
        "response = model.generate_content(prompt)\n",
        "print(response.text)"
      ],
      "metadata": {
        "id": "TRt8c8Kg22H2",
        "colab": {
          "base_uri": "https://localhost:8080/",
          "height": 72
        },
        "outputId": "7fc5b2ee-9e28-4bc4-88fa-b72f52f2c693"
      },
      "execution_count": null,
      "outputs": [
        {
          "output_type": "stream",
          "name": "stdout",
          "text": [
            "After years of hard work, your hard work will take you **to many places, depending on your goals and dedication.  It could take you to success, fulfillment, a better life, or even unexpected opportunities.**\n",
            "\n"
          ]
        }
      ]
    },
    {
      "cell_type": "markdown",
      "source": [
        "Custom settings to tweak/ improve model performance according to your requirements."
      ],
      "metadata": {
        "id": "lpZfFqIyU0lj"
      }
    },
    {
      "cell_type": "code",
      "source": [
        "response = model.generate_content(\n",
        "    \"Summarize the history of the internet\",\n",
        "    generation_config=genai.types.GenerationConfig(\n",
        "        temperature=0.7,\n",
        "        top_p=0.95,\n",
        "        max_output_tokens=300\n",
        "    )\n",
        ")\n",
        "\n",
        "print(response.text)"
      ],
      "metadata": {
        "colab": {
          "base_uri": "https://localhost:8080/",
          "height": 193
        },
        "id": "Mui5pGfk1Qdb",
        "outputId": "3e9dc735-a069-48a6-99a0-d4ec7bd286c8"
      },
      "execution_count": null,
      "outputs": [
        {
          "output_type": "stream",
          "name": "stdout",
          "text": [
            "The internet's history is a complex tapestry woven from military research, academic collaboration, and commercial innovation.  Here's a condensed summary:\n",
            "\n",
            "**Early Days (1960s-1970s):**  The foundation was laid with the US Department of Defense's ARPANET project, aiming to create a decentralized communication network resilient to attack.  This involved developing packet switching, a crucial technology allowing data to be broken into smaller packets for efficient transmission.  Email emerged as an early application.\n",
            "\n",
            "**Growth and Standardization (1980s):**  ARPANET evolved, and various networks began interconnecting, leading to the nascent internet.  Key developments included the creation of TCP/IP, the standard communication protocol that governs how data travels across the internet, and the development of the Domain Name System (DNS), making it easier to access websites using human-readable names instead of numerical addresses.\n",
            "\n",
            "**The World Wide Web (1990s):** The invention of the World Wide Web by Tim Berners-Lee revolutionized the internet.  Hypertext Markup Language (HTML) and the Uniform Resource Locator (URL) made it possible to link documents together in a user-friendly way, creating the interactive and interconnected web experience we know today.  The rise of graphical browsers like Mosaic and Netscape Navigator made the web accessible to the general public, triggering a period of explosive growth.\n",
            "\n",
            "**Commercialization and Expansion (200\n"
          ]
        }
      ]
    },
    {
      "cell_type": "markdown",
      "source": [
        "To get multiple answers(candidates)"
      ],
      "metadata": {
        "id": "sO2GIXeGVCs2"
      }
    },
    {
      "cell_type": "code",
      "source": [
        "response = model.generate_content(\n",
        "    prompt,\n",
        "    generation_config=genai.types.GenerationConfig(candidate_count=3)\n",
        ")\n",
        "\n",
        "for candidate in response.candidates:\n",
        "    print(candidate.content.parts[0].text)"
      ],
      "metadata": {
        "colab": {
          "base_uri": "https://localhost:8080/",
          "height": 141
        },
        "id": "EW-uj1YaB_Al",
        "outputId": "1128bd25-92ca-4311-8834-1f924320f95f"
      },
      "execution_count": null,
      "outputs": [
        {
          "output_type": "stream",
          "name": "stdout",
          "text": [
            "After years of hard work, your hard work will take you **far/to great heights/to success/where you want to be/to your goals/to a rewarding place/to unexpected opportunities.**  The best option depends on the specific context.\n",
            "\n",
            "After years of hard work, your hard work will take you **far/to great heights/to success/where you want to be/to your goals/to a rewarding place/to the fulfillment of your dreams.**\n",
            "\n",
            "After years of hard work, your hard work will take you **to places you never imagined.**\n",
            "\n"
          ]
        }
      ]
    },
    {
      "cell_type": "markdown",
      "source": [
        "Model with memory\n",
        "\n",
        "Conversation history between Roles: user and model"
      ],
      "metadata": {
        "id": "Xbb8GZf0VLuz"
      }
    },
    {
      "cell_type": "code",
      "source": [
        "chat = model.start_chat(history=[\n",
        "    {\"role\": \"user\", \"parts\": [\"Who is the president of India?\"]},\n",
        "    {\"role\": \"model\", \"parts\": [\"As of 2024, the President of India is Droupadi Murmu.\"]},\n",
        "    {\"role\": \"user\",\"parts\":[\"After years of hard work, your hard work will take you. Complete this sentece\"]},\n",
        "    {\"role\": \"model\", \"parts\": [\"After years of hard work, your hard work will take you **to many places, both expected and unexpected.**\"]}\n",
        "\n",
        "])\n",
        "\n",
        "response = chat.send_message(\"What is her background?\")\n",
        "print(response.text)\n",
        "\n",
        "\n",
        "# In this case, the model will remember that “her” refers to Droupadi Murmu — because the previous messages are included in the context."
      ],
      "metadata": {
        "colab": {
          "base_uri": "https://localhost:8080/",
          "height": 280
        },
        "id": "2feAbvkF2kiW",
        "outputId": "08821578-bc20-4b23-d98f-1a85c68b04c4"
      },
      "execution_count": null,
      "outputs": [
        {
          "output_type": "stream",
          "name": "stdout",
          "text": [
            "Droupadi Murmu's background is quite remarkable.  Before becoming President, she had a long and distinguished career in Indian politics.  Here are some key aspects of her background:\n",
            "\n",
            "* **Humble Beginnings:** She comes from a tribal community in Odisha, specifically the Santhal tribe.  She faced significant challenges early in life, highlighting her resilience and determination.\n",
            "\n",
            "* **Teacher:**  She began her career as a teacher, demonstrating a commitment to education.\n",
            "\n",
            "* **Politics:**  She entered politics and served as a Member of the Legislative Assembly (MLA) in Odisha for several years.  She held various ministerial portfolios in the state government, including those related to animal husbandry and fisheries, commerce and transport.\n",
            "\n",
            "* **Tribal Advocate:** Throughout her career, she has been a strong advocate for the rights and empowerment of tribal communities in India.\n",
            "\n",
            "* **First Tribal President:**  Her election as President of India marked a historic moment, as she is the first tribal woman to hold the highest office in the country.  This is a significant step towards greater representation and inclusion in Indian politics.\n",
            "\n",
            "In short, Droupadi Murmu's background is one of overcoming adversity, dedication to public service, and a lifelong commitment to the welfare of her community and the nation.\n",
            "\n"
          ]
        }
      ]
    },
    {
      "cell_type": "code",
      "source": [
        "response = model.generate_content(\n",
        "    \"What is her background?\",\n",
        "    generation_config=genai.types.GenerationConfig(\n",
        "        temperature=0.7,\n",
        "        top_p=0.95,\n",
        "        max_output_tokens=100\n",
        "    )\n",
        ")\n",
        "\n",
        "print(response.text)  # does not work here because cell changed"
      ],
      "metadata": {
        "colab": {
          "base_uri": "https://localhost:8080/",
          "height": 72
        },
        "id": "9qajuQiC41OO",
        "outputId": "af16a62b-d8bb-41fb-a7f8-a27de62eadc3"
      },
      "execution_count": null,
      "outputs": [
        {
          "output_type": "stream",
          "name": "stdout",
          "text": [
            "Please provide me with the name or a description of the person you're asking about.  I need more information to tell you about her background.\n",
            "\n"
          ]
        }
      ]
    },
    {
      "cell_type": "code",
      "source": [
        "chat_history = []\n",
        "\n",
        "response = chat.send_message(\"Who is the president of the USA?\")\n",
        "chat_history.append({\"role\": \"user\", \"parts\": [\"Who is the president of the USA?\"]})\n",
        "chat_history.append({\"role\": \"model\", \"parts\": [response.text]})  # can save like this\n",
        "print(response.text)"
      ],
      "metadata": {
        "colab": {
          "base_uri": "https://localhost:8080/",
          "height": 52
        },
        "id": "EOaH6Bw15ZPq",
        "outputId": "a3e75544-e44f-4553-855f-933e32a6b590"
      },
      "execution_count": null,
      "outputs": [
        {
          "output_type": "stream",
          "name": "stdout",
          "text": [
            "The president of the USA is Joe Biden.\n",
            "\n"
          ]
        }
      ]
    },
    {
      "cell_type": "markdown",
      "source": [
        "You can use this to track or log feedback yourself"
      ],
      "metadata": {
        "id": "k-UD2yag5vdB"
      }
    },
    {
      "cell_type": "code",
      "source": [
        "feedback = input(\"Was this answer correct? (yes/no): \")\n",
        "if feedback.lower() == \"no\":\n",
        "    with open(\"gemini_feedback_log.txt\", \"a\") as f:\n",
        "        f.write(f\"Prompt: {prompt}\\nResponse: {response.text}\\nUser Feedback: {feedback}\\n\\n\")\n"
      ],
      "metadata": {
        "colab": {
          "base_uri": "https://localhost:8080/"
        },
        "id": "i8LhNmmE541U",
        "outputId": "5855e9df-8a92-48f7-e804-db9a18140094"
      },
      "execution_count": null,
      "outputs": [
        {
          "name": "stdout",
          "output_type": "stream",
          "text": [
            "Was this answer correct? (yes/no): no\n"
          ]
        }
      ]
    },
    {
      "cell_type": "code",
      "source": [
        "chat_history"
      ],
      "metadata": {
        "colab": {
          "base_uri": "https://localhost:8080/"
        },
        "id": "lLWpHcAK5f1b",
        "outputId": "d627b990-5087-47f4-e128-91d65f584908"
      },
      "execution_count": null,
      "outputs": [
        {
          "output_type": "execute_result",
          "data": {
            "text/plain": [
              "[{'role': 'user', 'parts': ['Who is the president of the USA?']},\n",
              " {'role': 'model', 'parts': ['The president of the USA is Joe Biden.\\n']}]"
            ]
          },
          "metadata": {},
          "execution_count": 19
        }
      ]
    },
    {
      "cell_type": "code",
      "source": [
        "from PIL import Image\n",
        "\n",
        "image = Image.open(\"/content/Y3.jpg\")\n",
        "model = genai.GenerativeModel(\"gemini-1.5-flash-latest\")\n",
        "\n",
        "response = model.generate_content([image, \"What’s in this image?\"])\n",
        "print(response.text)\n"
      ],
      "metadata": {
        "colab": {
          "base_uri": "https://localhost:8080/",
          "height": 72
        },
        "id": "jL-lDUM92uG3",
        "outputId": "514b287a-95fd-4691-eae7-7e065fbe7c1f"
      },
      "execution_count": null,
      "outputs": [
        {
          "output_type": "stream",
          "name": "stdout",
          "text": [
            "That's a magnetic resonance imaging (MRI) scan of a brain showing a brain tumor.  Specifically, it appears to be a relatively small, well-circumscribed lesion in the left parietal lobe.  The bright signal intensity suggests it might be a high-grade glioma, but a definitive diagnosis requires further analysis and correlation with clinical findings and potentially biopsy results.  This is not a diagnosis and only a radiologist can interpret an MRI.\n",
            "\n"
          ]
        }
      ]
    },
    {
      "cell_type": "markdown",
      "source": [
        "Langchain for Agents"
      ],
      "metadata": {
        "id": "82IY6nN2V-ae"
      }
    },
    {
      "cell_type": "code",
      "source": [
        "! pip install langchain langchain-google-genai google-generativeai"
      ],
      "metadata": {
        "id": "BEll_YA23nzO"
      },
      "execution_count": null,
      "outputs": []
    },
    {
      "cell_type": "code",
      "source": [
        "import os\n",
        "from langchain_google_genai import ChatGoogleGenerativeAI\n",
        "from langchain_core.prompts import PromptTemplate\n",
        "\n",
        "os.environ[\"GOOGLE_API_KEY\"] = \"Enter your api key here\"\n",
        "\n",
        "llm = ChatGoogleGenerativeAI(model=\"gemini-1.5-flash-latest\", temperature=0)\n",
        "\n",
        "# Prompt\n",
        "template = (\"\"\"\n",
        "Answer the following questions as best as you can. You have access to the following tools:\n",
        "{tools}\n",
        "\n",
        "Use the following format:\n",
        "\n",
        "Question: The input question you must answer\n",
        "Thought: You should always think about what to do\n",
        "Action: the action is to take, should be one of [{tool_names}]\n",
        "Action Input: the input to the action\n",
        "Observation: the result of the action\n",
        "... (this Thought/Action/Action Input/Observation can repeat N times)\n",
        "Thought: I now know the answer\n",
        "Final Answer: the final answer to original input question\n",
        "\n",
        "Begin!\n",
        "\n",
        "Question: {input}\n",
        "Thought: {agent_scratchpad}\n",
        "\"\"\"\n",
        ")\n",
        "\n",
        "prompt = PromptTemplate(\n",
        "    template=template,\n",
        "    input_variables=[\"tools\", \"tool_names\", \"input\", \"agent_scratchpad\"]\n",
        ")\n"
      ],
      "metadata": {
        "id": "CNo6y6kv29RE"
      },
      "execution_count": null,
      "outputs": []
    },
    {
      "cell_type": "code",
      "source": [
        "!pip install -U langchain-community"
      ],
      "metadata": {
        "id": "KgGuz6kU87jO"
      },
      "execution_count": null,
      "outputs": []
    },
    {
      "cell_type": "code",
      "source": [
        "!pip install -U langchain-tavily\n",
        "\n"
      ],
      "metadata": {
        "id": "nMB1KwXs9Bwk"
      },
      "execution_count": null,
      "outputs": []
    },
    {
      "cell_type": "code",
      "source": [
        "from langchain.agents import load_tools, Tool\n",
        "from langchain_tavily import TavilySearch  # Can also use DuckDuckGoSearch\n",
        "\n",
        "search = TavilySearch(tavily_api_key=\"Enter your API key here\")\n",
        "\n",
        "search_tool = Tool(\n",
        "    name=\"Tavily Search\",\n",
        "    description=\"A web search engine. Use this tool as a search engine for general queries.\",func=search.run\n",
        ")\n",
        "\n",
        "tools = load_tools([\"llm-math\"],llm=llm)\n",
        "tools.append(search_tool) # => llm_math + tavily search"
      ],
      "metadata": {
        "id": "RSEC0p_d37lU"
      },
      "execution_count": null,
      "outputs": []
    },
    {
      "cell_type": "code",
      "source": [
        "from langchain.agents import AgentExecutor, create_react_agent\n",
        "\n",
        "#Construct reAct agent\n",
        "\n",
        "agent = create_react_agent(llm,tools,prompt)\n",
        "agent_executor = AgentExecutor(\n",
        "    agent=agent,tools=tools,verbose=True,handle_parsing_errors=True\n",
        ")"
      ],
      "metadata": {
        "id": "LRYzOTK89XoV"
      },
      "execution_count": null,
      "outputs": []
    },
    {
      "cell_type": "code",
      "source": [
        "agent_executor.invoke(\n",
        "    {\n",
        "        \"input\":\"what os the current price of a Macbook Pro in USD? How much would it cost in EUR if the exchange rate is 0.85 EUR for 1 USD? \"\n",
        "    }\n",
        ")"
      ],
      "metadata": {
        "colab": {
          "base_uri": "https://localhost:8080/"
        },
        "id": "zs08wMw29urr",
        "outputId": "53c1e8a6-9fd3-430b-ff1b-b3f548be3d40"
      },
      "execution_count": null,
      "outputs": [
        {
          "output_type": "stream",
          "name": "stdout",
          "text": [
            "\n",
            "\n",
            "\u001b[1m> Entering new AgentExecutor chain...\u001b[0m\n",
            "\u001b[32;1m\u001b[1;3mThought: I need to find the current price of a Macbook Pro in USD, then convert that price to EUR using the given exchange rate.  I'll use Tavily Search to find the price and then use the Calculator to perform the currency conversion.\n",
            "\n",
            "Action: Tavily Search\n",
            "Action Input: \"current price of Macbook Pro 13 inch\"\u001b[0m\u001b[33;1m\u001b[1;3m{'query': 'current price of Macbook Pro 13 inch', 'follow_up_questions': None, 'answer': None, 'images': [], 'results': [{'title': 'MacBook Pro 13-inch - Apple', 'url': 'https://www.apple.com/macbook-pro-13/index.html', 'content': \"The 13-inch MacBook Pro is supercharged by M2. It's our most portable pro laptop with all-day battery life and a gorgeous Retina display.\", 'score': 0.379241, 'raw_content': None}, {'title': 'Amazon.com: Macbook Pro 13', 'url': 'https://www.amazon.com/macbook-pro-13/s?k=macbook+pro+13', 'content': 'Amazon.com: macbook pro 132025 MacBook Air 13-inch Laptop with M4 chip: Built for Apple Intelligence, 13.6-inch Liquid Retina Display, 16GB Unified Memory, 256GB SSD Storage, 12MP Center Stage Camera, Touch ID; Midnight', 'score': 0.3542772, 'raw_content': None}, {'title': 'Apple MacBook Pro 13-Inch with M2 - Best Buy', 'url': 'https://www.bestbuy.com/site/mac/macbook-pro-13-inch-m2/pcmcat1654550313806.c?id=pcmcat1654550313806', 'content': 'Shop Best Buy to get the latest 13-inch MacBook Pro from Apple, supercharged by the M2 chip.', 'score': 0.30467278, 'raw_content': None}, {'title': 'MacBook Pro - Apple', 'url': 'https://www.apple.com/macbook-pro/', 'content': '14.3 x 13-inch MacBook Pro with Intel Core i7 (baseline) Faster gaming performance in World of Warcraft: The War Within 15 14-inch MacBook Pro with M4 11.5 x 14-inch MacBook Pro with M3 10.2 x', 'score': 0.23842646, 'raw_content': None}, {'title': 'MacBook Pro in Apple MacBook - Walmart.com', 'url': 'https://www.walmart.com/browse/electronics/macbook-pro/3944_3951_8945805_6996875', 'content': 'Shop for MacBook Pro in Apple MacBook. Buy products such as Restored Apple MacBook Pro 15.4-inch 2.2/2.8GHz Intel Core i7 16GB RAM 256GB SSD Bundle: USA Essentials Bluetooth/Wireless Airbuds, Black Case, Wireless Mouse By 2 Day Express) (Refurbished) at Walmart and save.', 'score': 0.13599934, 'raw_content': None}], 'response_time': 1.47}\u001b[0m\u001b[32;1m\u001b[1;3mThought: The Tavily Search results don't give a specific price. I need to visit the Apple website or a retailer's site to get a price.  Let's try a more specific search.\n",
            "\n",
            "Action: Tavily Search\n",
            "Action Input: \"price of 13 inch macbook pro m2 apple\"\u001b[0m\u001b[33;1m\u001b[1;3m{'query': 'price of 13 inch macbook pro m2 apple', 'follow_up_questions': None, 'answer': None, 'images': [], 'results': [{'title': 'Best M2 MacBook Pro 13-Inch Deals & Promo Code - AppleInsider', 'url': 'https://appleinsider.com/deals/best-macbook-pro-13-inch-deals', 'content': 'Exclusive Apple MacBook Pro 13-inch deals on models with M2 chip, plus AppleCare promo code. ... M2 MacBook Pro 13-inch Prices . M2, 8GB, 256GB, Space Gray. $1,064.95. PON. sold out.', 'score': 0.9094659, 'raw_content': None}, {'title': '2022 Apple MacBook Pro Laptop with M2 chip: 13-inch Retina Display, 8GB ...', 'url': 'https://www.amazon.com/2022-Apple-MacBook-Laptop-chip/dp/B0B3C57XLR', 'content': \"Buy 2022 Apple MacBook Pro Laptop with M2 chip: 13-inch Retina Display, 8GB RAM, 256GB SSD Storage, Touch Bar, Backlit Keyboard, FaceTime HD Camera. ... List prices may not necessarily reflect the product's prevailing market price. ... Apple MacBook Pro 13-inch with M2 Chip (8-core CPU and 10 core GPU) Display. 13.3-inch (diagonal) LED-backlit\", 'score': 0.635879, 'raw_content': None}, {'title': 'Apple MacBook Pro 13-Inch with M2 - Best Buy', 'url': 'https://www.bestbuy.com/site/mac/macbook-pro-13-inch-m2/pcmcat1654550313806.c?id=pcmcat1654550313806', 'content': 'Power and Battery: Testing conducted by Apple in May 2022 using preproduction 13‑inch MacBook Pro systems with Apple M2, 8‑core CPU, 10‑core GPU, 8GB of RAM, and 256GB SSD. The wireless web test measures battery life by wirelessly browsing 25 popular websites with display brightness set to 8 clicks from bottom.', 'score': 0.56258565, 'raw_content': None}, {'title': 'MacBook Pro 13-inch - Apple', 'url': 'https://www.apple.com/macbook-pro-13/index.html', 'content': 'The new M2 chip makes the 13‑inch MacBook Pro more capable than ever. The same compact design supports up to 20 hours of battery life1 and an active cooling system to sustain enhanced performance. Featuring a brilliant Retina display, a FaceTime HD camera, and studio‑quality mics, it’s our most portable pro laptop. The M2 chip begins the next generation of Apple silicon, with even more of the speed and power efficiency introduced by M1. So you can rip through workflows with a more powerful 8-core CPU.', 'score': 0.5372119, 'raw_content': None}, {'title': 'MacBook Pro laptop (13-inch) - Apple M2 chip, 8-core CPU, 10-core GPU ...', 'url': 'https://www.costco.com/macbook-pro-laptop-13-inch---apple-m2-chip,-8-core-cpu,-10-core-gpu,-8gb-memory,-512gb-ssd-storage.product.100806176.html', 'content': 'MacBook Pro laptop (13-inch) - Apple M2 chip, 8-core CPU, 10-core GPU, 8GB memory, 512GB SSD storage Apple M2 Chip Up to 20 hour battery life 8-core CPU, 10-core GPU 13.3\" Retina display FaceTime HD Camera ... Standard shipping via UPS Ground is included in the quoted price. Express shipping is via UPS. Please choose your shipping method at', 'score': 0.528315, 'raw_content': None}], 'response_time': 1.75}\u001b[0m\u001b[32;1m\u001b[1;3mThought: I found a price of $1064.95 for a 13-inch Macbook Pro M2 on AppleInsider.  Now I need to convert that to EUR.\n",
            "\n",
            "Action: Calculator\n",
            "Action Input: 1064.95 * 0.85\u001b[0m\u001b[36;1m\u001b[1;3mAnswer: 905.2075\u001b[0m\u001b[32;1m\u001b[1;3mThought: I now know the answer.\n",
            "\n",
            "Final Answer: A 13-inch Macbook Pro M2 costs approximately $1064.95 USD.  At an exchange rate of 0.85 EUR per 1 USD, this would cost approximately 905.21 EUR.\u001b[0m\n",
            "\n",
            "\u001b[1m> Finished chain.\u001b[0m\n"
          ]
        },
        {
          "output_type": "execute_result",
          "data": {
            "text/plain": [
              "{'input': 'what os the current price of a Macbook Pro in USD? How much would it cost in EUR if the exchange rate is 0.85 EUR for 1 USD? ',\n",
              " 'output': 'A 13-inch Macbook Pro M2 costs approximately $1064.95 USD.  At an exchange rate of 0.85 EUR per 1 USD, this would cost approximately 905.21 EUR.'}"
            ]
          },
          "metadata": {},
          "execution_count": 46
        }
      ]
    },
    {
      "cell_type": "code",
      "source": [
        "agent_executor.invoke(\n",
        "    {\n",
        "        \"input\":\"what is the current price of 24 karat gold in India? Also what is the total money gained if 1 rupee is doubled for 30 days!\"\n",
        "    }\n",
        ")"
      ],
      "metadata": {
        "colab": {
          "base_uri": "https://localhost:8080/"
        },
        "id": "VMq0ukxE-R2s",
        "outputId": "ec6c5684-c5c5-4e94-8b41-ea4aaf979bd9"
      },
      "execution_count": null,
      "outputs": [
        {
          "output_type": "stream",
          "name": "stdout",
          "text": [
            "\n",
            "\n",
            "\u001b[1m> Entering new AgentExecutor chain...\u001b[0m\n",
            "\u001b[32;1m\u001b[1;3mThought: I need to use Tavily Search to find the current price of 24 karat gold in India, and then use the Calculator to determine the total money gained if 1 rupee is doubled for 30 days.\n",
            "\n",
            "Action: Tavily Search\n",
            "Action Input: \"current price of 24 karat gold in India\"\u001b[0m\u001b[33;1m\u001b[1;3m{'query': 'current price of 24 karat gold in India', 'follow_up_questions': None, 'answer': None, 'images': [], 'results': [{'title': \"24-Karat Gold Price in India - Today's 24K Gold Rate per Gram in INR\", 'url': 'https://goldpricez.com/in/24k/gram', 'content': 'The current 24K gold price per gram is ₹9,191.84 Indian Rupees (INR), showing a weekly decline of ₹177.32 (-1.89%). Explore the detailed 24 Karat gold rates in India, including live updates, price comparisons, and charts for various units such as gram, ounce, kilo, tola, and more. ... Welcome to the latest 24-Karat gold prices in India', 'score': 0.95724994, 'raw_content': None}, {'title': 'India Gold Price Live - 24-hour (gold prices in Indian rupees INR)', 'url': 'https://www.livepriceofgold.com/india-gold-price.html', 'content': 'Gold Price in India Today: per oz 287,276.17 Indian rupees. India Gold Price - Stay updated with the latest real-time gold rates in Indian Rupees (INR). View current prices per gram, ounce, tola, and kilogram for 24K, 22K, 18K, and 14K gold with live updates. The most current gold price in Indian rupee 24,22,18,14,10,6 carat', 'score': 0.8963332, 'raw_content': None}, {'title': 'Today Gold Rate - Live Gold Price in India', 'url': 'https://goldrate.com/gold-rate-today/', 'content': 'Today Gold Rate Rupees per gram; 22kt gold price in India per gram: 7,132: 24kt gold price in India per gram: 7,608', 'score': 0.8622012, 'raw_content': None}, {'title': 'Gold Price Today in India in Indian Rupee (INR) - Gold Rate 24', 'url': 'https://www.goldrate24.com/gold-prices/asia/india/', 'content': 'Today gold price in India (New Delhi) in Indian Rupee per ounce, gram and tola in different karats; 24, 22, 21, 18, 14, 12, 10 based on live spot gold price', 'score': 0.75831425, 'raw_content': None}, {'title': 'Gold Rate Today (24 June 2025), Gold Price in India - Goodreturns', 'url': 'https://www.goodreturns.in/gold-rates/', 'content': 'Update with gold rate today (24 June 2025) & last 10 days gold price in India, based on rupees per gram for 18, 24 & 22 Carat/Karat in major Indian cities.', 'score': 0.74697095, 'raw_content': None}], 'response_time': 1.6}\u001b[0m\u001b[32;1m\u001b[1;3mQuestion: what is the current price of 24 karat gold in India? Also what is the total money gained if 1 rupee is doubled for 30 days!\n",
            "Thought: I need to use Tavily Search to find the current price of 24 karat gold in India, and then use the Calculator to determine the total money gained if 1 rupee is doubled for 30 days.\n",
            "\n",
            "Action: Tavily Search\n",
            "Action Input: \"current price of 24 karat gold in India\"\u001b[0m\u001b[33;1m\u001b[1;3m{'query': 'current price of 24 karat gold in India', 'follow_up_questions': None, 'answer': None, 'images': [], 'results': [{'title': \"24-Karat Gold Price in India - Today's 24K Gold Rate per Gram in INR\", 'url': 'https://goldpricez.com/in/24k/gram', 'content': 'Today, gold prices are falling! The current 24K gold price per gram is ₹9,149.69 Indian Rupees (INR), showing a weekly decline of ₹273.49 (-2.9%). Explore the detailed 24 Karat gold rates in India, including live updates, price comparisons, and charts for various units such as gram, ounce, kilo, tola, and more.', 'score': 0.95857275, 'raw_content': None}, {'title': 'India Gold Price Live - 24-hour (gold prices in Indian rupees INR)', 'url': 'https://www.livepriceofgold.com/india-gold-price.html', 'content': 'Gold Price in India Today: per oz 287,276.17 Indian rupees. India Gold Price - Stay updated with the latest real-time gold rates in Indian Rupees (INR). View current prices per gram, ounce, tola, and kilogram for 24K, 22K, 18K, and 14K gold with live updates. The most current gold price in Indian rupee 24,22,18,14,10,6 carat', 'score': 0.8963332, 'raw_content': None}, {'title': 'Today Gold Rate - Live Gold Price in India', 'url': 'https://goldrate.com/gold-rate-today/', 'content': 'Today Gold Rate Rupees per gram; 22kt gold price in India per gram: 7,132: 24kt gold price in India per gram: 7,608', 'score': 0.8622012, 'raw_content': None}, {'title': 'Gold Price Today in India in Indian Rupee (INR) - Gold Rate 24', 'url': 'https://www.goldrate24.com/gold-prices/asia/india/', 'content': 'Today gold price in India (New Delhi) in Indian Rupee per ounce, gram and tola in different karats; 24, 22, 21, 18, 14, 12, 10 based on live spot gold price', 'score': 0.75831425, 'raw_content': None}, {'title': 'Gold Rate Today (24 June 2025), Gold Price in India - Goodreturns', 'url': 'https://www.goodreturns.in/gold-rates/', 'content': 'Update with gold rate today (24 June 2025) & last 10 days gold price in India, based on rupees per gram for 18, 24 & 22 Carat/Karat in major Indian cities.', 'score': 0.74697095, 'raw_content': None}], 'response_time': 1.75}\u001b[0m\u001b[32;1m\u001b[1;3mThought: The Tavily Search results provide varying prices for 24 karat gold.  I'll use the most recent price from a reputable source.  Then I'll use the Calculator to calculate the doubling of 1 rupee for 30 days.\n",
            "\n",
            "Action: Tavily Search\n",
            "Action Input: \"most reliable source for current gold price in India\"\u001b[0m\u001b[33;1m\u001b[1;3m{'query': 'most reliable source for current gold price in India', 'follow_up_questions': None, 'answer': None, 'images': [], 'results': [{'title': 'India Gold Rate: Gold/Silver Prices, Exchange Rates and more', 'url': 'https://www.indiagoldrate.co.in/', 'content': \"We started this website as an online Gold price and Silver price information service, from there we have grown a lot and we are proud to say that we are the leading and most trusted website for Gold and Silver prices across India. Needed today's Gold rate or past history, we have it all, with interactive charts and graphs.\", 'score': 0.7106489, 'raw_content': None}, {'title': 'GoldPrice by AimIndia - Live Precious Metals Rates | Gold, Silver ...', 'url': 'https://goldprice.aimindia.in/', 'content': \"India's most trusted precious metals exchange platform. Get live gold, silver, and platinum prices across all major Indian cities including Mumbai, Delhi, Chennai, Kolkata with real-time updates and professional analytics.\", 'score': 0.67758125, 'raw_content': None}, {'title': 'Today Gold Rate - Live Gold Price in India', 'url': 'https://goldrate.com/gold-rate-today/', 'content': 'Today Gold Rate in India offers the most accurate live retail gold price in Indian Rupees (INR) for all major cities.', 'score': 0.6320719, 'raw_content': None}, {'title': 'Gold rate daily opening and closing rates for India', 'url': 'https://ibjarates.com/', 'content': 'Authentic source for daily Gold and Silver prices with historical metals rates. Gold rate daily opening and closing rates for India. India Bullion and Jewellers Association (IBJA) is a 106 year old association based in Zaveri Bazar, Mumbai, India. IBJA publishes daily Gold opening (AM) and closing (PM) Rates.', 'score': 0.6147415, 'raw_content': None}, {'title': 'Gold Rate Today (25 June 2025), Gold Price in India', 'url': 'https://www.goodreturns.in/gold-rates/', 'content': 'Update with gold rate today (25 June 2025) & last 10 days gold price in India, based on rupees per gram for 18, 24 & 22 Carat/Karat in major Indian cities.', 'score': 0.4948006, 'raw_content': None}], 'response_time': 1.5}\u001b[0m\u001b[32;1m\u001b[1;3mThought: The previous searches gave conflicting prices. I will use a more reliable source to get the current price of 24 karat gold.  Then I will calculate the doubling of 1 rupee for 30 days.\n",
            "\n",
            "Action: Tavily Search\n",
            "Action Input: \"current price of 24 karat gold in India from a reliable source like IBJA\"\u001b[0m\u001b[33;1m\u001b[1;3m{'query': 'current price of 24 karat gold in India from a reliable source like IBJA', 'follow_up_questions': None, 'answer': None, 'images': [], 'results': [{'title': \"Today's Gold Rate in India: Gold Price Today, 18, 22 & 24 Carat Gold ...\", 'url': 'https://www.financialexpress.com/gold-rate-today/', 'content': 'The gold rate in India for 24 carat (Gold 999) is at Rs 97,900 per 10 grams, rise 1500.00 from its previous close. The price of 1 gram gold rate today for 24 carat gold is Rs 9,790 per gm. 22', 'score': 0.7407191, 'raw_content': None}, {'title': '24K Gold Rate in India | India 24Ct Gold Rate Today | Todays 24K Gold ...', 'url': 'https://www.indiagoldrate.co.in/24k-gold-rate.php', 'content': 'The highest and lowest 24 Carat Gold rate in last 7 days was Rs. 9,728.00/- on 19-Jun-2025 and Rs. 9,524.00/- on 25-Jun-2025 respectively in India per gram. In last 7 days for 8 grams of 24 Carat Gold, the highest rate was on 19-Jun-2025 which was Rs. 77,826.00/- and the lowest rate was on 25-Jun-2025 which was Rs. 76,188.00/-.', 'score': 0.7173491, 'raw_content': None}, {'title': 'India Gold Price Live - 24-hour (gold prices in Indian rupees INR)', 'url': 'https://www.livepriceofgold.com/india-gold-price.html', 'content': 'Gold Price in India Today: per oz 287,276.17 Indian rupees. India Gold Price - Stay updated with the latest real-time gold rates in Indian Rupees (INR). View current prices per gram, ounce, tola, and kilogram for 24K, 22K, 18K, and 14K gold with live updates. The most current gold price in Indian rupee 24,22,18,14,10,6 carat', 'score': 0.71088976, 'raw_content': None}, {'title': 'Gold rate daily opening and closing rates for India', 'url': 'https://ibjarates.com/', 'content': \"24/06/2025: 97288: 96898: 89116: 72966: 56913: 105898 : 23/06/2025: 98884: 98488: 90578: ... Any party using the IBJA Gold Price for valuation and pricing activities and in transactions & financial products are advised to subscribe IBJA rates only through OFFICIAL IBJA API (Application Programming Interface) ... IBJA Gold prices are India's\", 'score': 0.6578248, 'raw_content': None}, {'title': 'Today Gold Rate - Live Gold Price in India', 'url': 'https://goldrate.com/gold-rate-today/', 'content': 'Today Gold Rate Rupees per gram; 22kt gold price in India per gram: 7,132: 24kt gold price in India per gram: 7,608', 'score': 0.63723457, 'raw_content': None}], 'response_time': 1.69}\u001b[0m\u001b[32;1m\u001b[1;3mThought:The sources still provide conflicting information on the price of 24 karat gold. I will use the price from Financial Express as it seems to be providing a current price.  I will then calculate the doubling of 1 rupee for 30 days using the Calculator.\n",
            "\n",
            "Action: Calculator\n",
            "Action Input: 2**30\u001b[0m\u001b[36;1m\u001b[1;3mAnswer: 1073741824\u001b[0m\u001b[32;1m\u001b[1;3mThought: I have the price of 24 karat gold from Financial Express and the result of doubling 1 rupee for 30 days from the Calculator.\n",
            "\n",
            "Thought: I now know the answer\n",
            "\n",
            "Final Answer: The current price of 24 karat gold in India is approximately ₹9,790 per gram according to the Financial Express.  If 1 rupee is doubled for 30 days, the total money gained is 1,073,741,824 rupees.\u001b[0m\n",
            "\n",
            "\u001b[1m> Finished chain.\u001b[0m\n"
          ]
        },
        {
          "output_type": "execute_result",
          "data": {
            "text/plain": [
              "{'input': 'what is the current price of 24 karat gold in India? Also what is the total money gained if 1 rupee is doubled for 30 days!',\n",
              " 'output': 'The current price of 24 karat gold in India is approximately ₹9,790 per gram according to the Financial Express.  If 1 rupee is doubled for 30 days, the total money gained is 1,073,741,824 rupees.'}"
            ]
          },
          "metadata": {},
          "execution_count": 48
        }
      ]
    }
  ]
}